{
 "cells": [
  {
   "cell_type": "markdown",
   "metadata": {},
   "source": [
    "# United States Congress Stock Transactions Retrieval"
   ]
  },
  {
   "cell_type": "code",
   "execution_count": 1,
   "metadata": {},
   "outputs": [],
   "source": [
    "# Import packages\n",
    "import csv, json, zipfile\n",
    "import requests, PyPDF2\n",
    "import os\n",
    "from datetime import datetime"
   ]
  },
  {
   "cell_type": "code",
   "execution_count": 2,
   "metadata": {},
   "outputs": [],
   "source": [
    "# Define global variables\n",
    "current_year = str(datetime.today().year)\n",
    "current_directory = os.getcwd()\n",
    "doc_id = ''"
   ]
  },
  {
   "cell_type": "code",
   "execution_count": 3,
   "metadata": {},
   "outputs": [],
   "source": [
    "# Get last name of represenative from user input\n",
    "represenative_name = input(\"Represenative's last name: \")\n",
    "represenative_name = represenative_name.lower() # Convert name to lowercase for directory creation\n",
    "\n",
    "house_zip_url = \"https://disclosures-clerk.house.gov/public_disc/financial-pdfs/\" + current_year + \"FD.ZIP\"\n",
    "house_pdf_base_url = \"https://disclosures-clerk.house.gov/public_disc/ptr-pdfs/\" + current_year + \"/\"\n",
    "\n",
    "zip_file_request = requests.get(house_zip_url)\n",
    "new_zipfile_name = represenative_name + current_year + \".zip\""
   ]
  },
  {
   "cell_type": "code",
   "execution_count": 4,
   "metadata": {},
   "outputs": [],
   "source": [
    "# Download and unzip corresponding file\n",
    "with open(new_zipfile_name, 'wb') as f:\n",
    "    f.write(zip_file_request.content)\n",
    "\n",
    "with zipfile.ZipFile(new_zipfile_name) as z:\n",
    "    z.extractall('.')"
   ]
  },
  {
   "cell_type": "code",
   "execution_count": 5,
   "metadata": {},
   "outputs": [],
   "source": [
    "with open('2021FD.txt') as f:\n",
    "    for line in csv.reader(f, delimiter='\\t'):\n",
    "\n",
    "        if line[1].lower() == represenative_name:\n",
    "            date = line[7]\n",
    "            doc_id = line[8]\n",
    "\n",
    "            pdf_doc_source = requests.get(f\"{house_pdf_base_url}{doc_id}.pdf\")\n",
    "\n",
    "            # Create directory for represenative if it doesn't exist\n",
    "            if not os.path.exists(current_directory + \"/\" + represenative_name):\n",
    "                try:\n",
    "                    os.makedirs(current_directory + \"/\" + represenative_name)\n",
    "                except OSError as exc:  # Guard against race condition\n",
    "                    if exc.errno != zipfile.error.EEXIST:\n",
    "                        pass\n",
    "\n",
    "            # Write newest file under represenative's name\n",
    "            # Need ability to save to a directory under the represenatives name.\n",
    "            with open(represenative_name + f\"/{doc_id}.pdf\", 'wb+') as pdf_file:\n",
    "                pdf_file.write(pdf_doc_source.content)"
   ]
  }
 ],
 "metadata": {
  "interpreter": {
   "hash": "98b0a9b7b4eaaa670588a142fd0a9b87eaafe866f1db4228be72b4211d12040f"
  },
  "kernelspec": {
   "display_name": "Python 3.9.6 64-bit ('base': conda)",
   "name": "python3"
  },
  "language_info": {
   "codemirror_mode": {
    "name": "ipython",
    "version": 3
   },
   "file_extension": ".py",
   "mimetype": "text/x-python",
   "name": "python",
   "nbconvert_exporter": "python",
   "pygments_lexer": "ipython3",
   "version": "3.9.6"
  },
  "orig_nbformat": 4
 },
 "nbformat": 4,
 "nbformat_minor": 2
}
